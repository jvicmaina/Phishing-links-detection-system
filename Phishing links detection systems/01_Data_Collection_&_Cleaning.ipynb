{
 "cells": [
  {
   "cell_type": "markdown",
   "id": "c94680b4-fe31-4123-b090-9cb91d9248ad",
   "metadata": {},
   "source": [
    " # **<span style=\"font-size:larger;\"> 01: <span style=\"color:blue\">Data Collection & Cleaning</span>** #"
   ]
  },
  {
   "cell_type": "markdown",
   "id": "0a59341a-80f0-4178-9060-a44d6855d44c",
   "metadata": {},
   "source": [
    "This project initially used just one dataset of 96,005 URLs-- about 50% legitimate URLs and 50% phishing URLs. While the model created was able to perform with an 91% accuracy on the testing data, model deployment seemed to have its own pitfalls. Simple websites such as www.google.com were classified as phishing. When taking a closer look at our dataset, it was evident that legitimate URL samples did not include short, simple URLs. An additional dataset is merged with the original to improve our model upon deployment."
   ]
  },
  {
   "cell_type": "markdown",
   "id": "35fe7884-f6d9-4d4e-b46d-8fd4fa5b478a",
   "metadata": {},
   "source": [
    "#### Imports and Read-Ins:"
   ]
  },
  {
   "cell_type": "code",
   "execution_count": 1,
   "id": "d40e9a46-192d-4ae1-837d-da179c4d7e37",
   "metadata": {},
   "outputs": [],
   "source": [
    "import numpy as np\n",
    "import pandas as pd\n",
    "import matplotlib.pyplot as plt\n",
    "import seaborn as sns"
   ]
  },
  {
   "cell_type": "code",
   "execution_count": 3,
   "id": "d73f37cd-ef44-4e1f-bb5a-1d5c025ea515",
   "metadata": {},
   "outputs": [],
   "source": [
    "# Original dataset\n",
    "df = pd.read_csv(\"C:/Users/jvicm/Desktop/Phishing-URL-Detection-main/url_original.csv\") "
   ]
  },
  {
   "cell_type": "code",
   "execution_count": 68,
   "id": "e98d271b-8d37-458e-84c3-c0067d13fa26",
   "metadata": {},
   "outputs": [],
   "source": [
    "# Additional dataset\n",
    "df2 = pd.read_csv(\"../data/url_additional.csv\")"
   ]
  },
  {
   "cell_type": "markdown",
   "id": "3026f87e-ba95-4ef9-bc28-3b21e38846b3",
   "metadata": {},
   "source": [
    "# I. Initial Read"
   ]
  },
  {
   "cell_type": "code",
   "execution_count": 4,
   "id": "08d6bc0f-87f5-4ee3-9a49-1ab0fd9c7e5a",
   "metadata": {},
   "outputs": [
    {
     "data": {
      "text/html": [
       "<div>\n",
       "<style scoped>\n",
       "    .dataframe tbody tr th:only-of-type {\n",
       "        vertical-align: middle;\n",
       "    }\n",
       "\n",
       "    .dataframe tbody tr th {\n",
       "        vertical-align: top;\n",
       "    }\n",
       "\n",
       "    .dataframe thead th {\n",
       "        text-align: right;\n",
       "    }\n",
       "</style>\n",
       "<table border=\"1\" class=\"dataframe\">\n",
       "  <thead>\n",
       "    <tr style=\"text-align: right;\">\n",
       "      <th></th>\n",
       "      <th>domain</th>\n",
       "      <th>label</th>\n",
       "    </tr>\n",
       "  </thead>\n",
       "  <tbody>\n",
       "    <tr>\n",
       "      <th>0</th>\n",
       "      <td>nobell.it/70ffb52d079109dca5664cce6f317373782/...</td>\n",
       "      <td>1.0</td>\n",
       "    </tr>\n",
       "    <tr>\n",
       "      <th>1</th>\n",
       "      <td>www.dghjdgf.com/paypal.co.uk/cycgi-bin/webscrc...</td>\n",
       "      <td>1.0</td>\n",
       "    </tr>\n",
       "    <tr>\n",
       "      <th>2</th>\n",
       "      <td>serviciosbys.com/paypal.cgi.bin.get-into.herf....</td>\n",
       "      <td>1.0</td>\n",
       "    </tr>\n",
       "    <tr>\n",
       "      <th>3</th>\n",
       "      <td>mail.printakid.com/www.online.americanexpress....</td>\n",
       "      <td>1.0</td>\n",
       "    </tr>\n",
       "    <tr>\n",
       "      <th>4</th>\n",
       "      <td>thewhiskeydregs.com/wp-content/themes/widescre...</td>\n",
       "      <td>1.0</td>\n",
       "    </tr>\n",
       "  </tbody>\n",
       "</table>\n",
       "</div>"
      ],
      "text/plain": [
       "                                              domain  label\n",
       "0  nobell.it/70ffb52d079109dca5664cce6f317373782/...    1.0\n",
       "1  www.dghjdgf.com/paypal.co.uk/cycgi-bin/webscrc...    1.0\n",
       "2  serviciosbys.com/paypal.cgi.bin.get-into.herf....    1.0\n",
       "3  mail.printakid.com/www.online.americanexpress....    1.0\n",
       "4  thewhiskeydregs.com/wp-content/themes/widescre...    1.0"
      ]
     },
     "execution_count": 4,
     "metadata": {},
     "output_type": "execute_result"
    }
   ],
   "source": [
    "df.head()"
   ]
  },
  {
   "cell_type": "code",
   "execution_count": 36,
   "id": "3d756017-cc32-4c2d-bcb3-9c34a09ed940",
   "metadata": {},
   "outputs": [
    {
     "data": {
      "text/html": [
       "<div>\n",
       "<style scoped>\n",
       "    .dataframe tbody tr th:only-of-type {\n",
       "        vertical-align: middle;\n",
       "    }\n",
       "\n",
       "    .dataframe tbody tr th {\n",
       "        vertical-align: top;\n",
       "    }\n",
       "\n",
       "    .dataframe thead th {\n",
       "        text-align: right;\n",
       "    }\n",
       "</style>\n",
       "<table border=\"1\" class=\"dataframe\">\n",
       "  <thead>\n",
       "    <tr style=\"text-align: right;\">\n",
       "      <th></th>\n",
       "      <th>Unnamed: 0</th>\n",
       "      <th>url</th>\n",
       "      <th>label</th>\n",
       "      <th>result</th>\n",
       "    </tr>\n",
       "  </thead>\n",
       "  <tbody>\n",
       "    <tr>\n",
       "      <th>0</th>\n",
       "      <td>0</td>\n",
       "      <td>https://www.google.com</td>\n",
       "      <td>benign</td>\n",
       "      <td>0</td>\n",
       "    </tr>\n",
       "    <tr>\n",
       "      <th>1</th>\n",
       "      <td>1</td>\n",
       "      <td>https://www.youtube.com</td>\n",
       "      <td>benign</td>\n",
       "      <td>0</td>\n",
       "    </tr>\n",
       "    <tr>\n",
       "      <th>2</th>\n",
       "      <td>2</td>\n",
       "      <td>https://www.facebook.com</td>\n",
       "      <td>benign</td>\n",
       "      <td>0</td>\n",
       "    </tr>\n",
       "    <tr>\n",
       "      <th>3</th>\n",
       "      <td>3</td>\n",
       "      <td>https://www.baidu.com</td>\n",
       "      <td>benign</td>\n",
       "      <td>0</td>\n",
       "    </tr>\n",
       "    <tr>\n",
       "      <th>4</th>\n",
       "      <td>4</td>\n",
       "      <td>https://www.wikipedia.org</td>\n",
       "      <td>benign</td>\n",
       "      <td>0</td>\n",
       "    </tr>\n",
       "  </tbody>\n",
       "</table>\n",
       "</div>"
      ],
      "text/plain": [
       "   Unnamed: 0                        url   label  result\n",
       "0           0     https://www.google.com  benign       0\n",
       "1           1    https://www.youtube.com  benign       0\n",
       "2           2   https://www.facebook.com  benign       0\n",
       "3           3      https://www.baidu.com  benign       0\n",
       "4           4  https://www.wikipedia.org  benign       0"
      ]
     },
     "execution_count": 36,
     "metadata": {},
     "output_type": "execute_result"
    }
   ],
   "source": [
    "df2.head()"
   ]
  },
  {
   "cell_type": "code",
   "execution_count": 5,
   "id": "148b5902-232d-438d-bfdb-bd949eec0e33",
   "metadata": {},
   "outputs": [],
   "source": [
    "def initial_read(df):\n",
    "    print('SHAPE')\n",
    "    print(df.shape)\n",
    "    print('=====')\n",
    "    print('DTYPES')\n",
    "    print(df.dtypes)\n",
    "    print('=====')\n",
    "    print('NULL VALUES')\n",
    "    print(df.isnull().sum())\n",
    "    print('=====')"
   ]
  },
  {
   "cell_type": "code",
   "execution_count": 6,
   "id": "0cdacc0f-ad0d-44c4-af71-652ffaf60e47",
   "metadata": {},
   "outputs": [
    {
     "name": "stdout",
     "output_type": "stream",
     "text": [
      "SHAPE\n",
      "(96005, 2)\n",
      "=====\n",
      "DTYPES\n",
      "domain     object\n",
      "label     float64\n",
      "dtype: object\n",
      "=====\n",
      "NULL VALUES\n",
      "domain     0\n",
      "label     92\n",
      "dtype: int64\n",
      "=====\n"
     ]
    }
   ],
   "source": [
    "initial_read(df)"
   ]
  },
  {
   "cell_type": "code",
   "execution_count": 39,
   "id": "025f1457-9f6b-4090-86b3-b45080012caf",
   "metadata": {},
   "outputs": [
    {
     "name": "stdout",
     "output_type": "stream",
     "text": [
      "SHAPE\n",
      "(450176, 4)\n",
      "=====\n",
      "DTYPES\n",
      "Unnamed: 0     int64\n",
      "url           object\n",
      "label         object\n",
      "result         int64\n",
      "dtype: object\n",
      "=====\n",
      "NULL VALUES\n",
      "Unnamed: 0    0\n",
      "url           0\n",
      "label         0\n",
      "result        0\n",
      "dtype: int64\n",
      "=====\n"
     ]
    }
   ],
   "source": [
    "initial_read(df2)"
   ]
  },
  {
   "cell_type": "markdown",
   "id": "d941b2b8-1eb6-4736-86be-8a5a63e37144",
   "metadata": {},
   "source": [
    "# II. Initial Cleaning"
   ]
  },
  {
   "cell_type": "markdown",
   "id": "fdf72c62-b43d-43b6-bc55-3541ef5b1912",
   "metadata": {},
   "source": [
    "### Dropping Null Values"
   ]
  },
  {
   "cell_type": "markdown",
   "id": "73f8f339-cf9a-4b34-a163-560e87ebf6d1",
   "metadata": {},
   "source": [
    "From the above function, we can see that there were 92 URLs without a label (phishing or legitimate URL). We will simply drop these rows. By checking the shape of the dataframe, we can ensure that 92 null values have been dropped."
   ]
  },
  {
   "cell_type": "code",
   "execution_count": 7,
   "id": "72ea2a55-aec9-4d82-bf8a-898d980f7127",
   "metadata": {},
   "outputs": [],
   "source": [
    "df.dropna(inplace=True)"
   ]
  },
  {
   "cell_type": "code",
   "execution_count": 8,
   "id": "3377ca75-6da7-444f-a7cc-5dd32d0c8dd5",
   "metadata": {},
   "outputs": [
    {
     "data": {
      "text/plain": [
       "domain    0\n",
       "label     0\n",
       "dtype: int64"
      ]
     },
     "execution_count": 8,
     "metadata": {},
     "output_type": "execute_result"
    }
   ],
   "source": [
    "# Quick check\n",
    "df.isnull().sum()"
   ]
  },
  {
   "cell_type": "markdown",
   "id": "a7fde2f0-3a54-43bb-bed4-39749c874ea0",
   "metadata": {},
   "source": [
    "### Dropping Columns"
   ]
  },
  {
   "cell_type": "code",
   "execution_count": 42,
   "id": "e25a84b2-37e0-431e-84b6-b15effe63663",
   "metadata": {},
   "outputs": [],
   "source": [
    "df2.drop(columns = ['Unnamed: 0', 'label'], inplace=True)"
   ]
  },
  {
   "cell_type": "markdown",
   "id": "ef0b786c-d021-48c2-98be-ea4d257a3818",
   "metadata": {},
   "source": [
    "### Changing Dtypes"
   ]
  },
  {
   "cell_type": "markdown",
   "id": "c68743b7-fbe9-4376-9648-cce52b82ffb8",
   "metadata": {},
   "source": [
    "Dtypes are changed so the two datasets match."
   ]
  },
  {
   "cell_type": "code",
   "execution_count": 12,
   "id": "89eb0903-fd4e-4590-a412-eb1ea7573c99",
   "metadata": {},
   "outputs": [],
   "source": [
    "df['label'] = df['label'].astype(int)"
   ]
  },
  {
   "cell_type": "code",
   "execution_count": 13,
   "id": "9ca93aa7-9127-4e65-9608-0ddeb9e26bf0",
   "metadata": {},
   "outputs": [
    {
     "data": {
      "text/plain": [
       "domain    object\n",
       "label      int32\n",
       "dtype: object"
      ]
     },
     "execution_count": 13,
     "metadata": {},
     "output_type": "execute_result"
    }
   ],
   "source": [
    "df.dtypes"
   ]
  },
  {
   "cell_type": "markdown",
   "id": "f3187ebd-4e44-4837-b542-bd5471a36a26",
   "metadata": {},
   "source": [
    "### Renaming Columns"
   ]
  },
  {
   "cell_type": "markdown",
   "id": "eed6f2be-a44b-4f60-b331-133301953208",
   "metadata": {},
   "source": [
    "Columns are renamed so the two datasets match."
   ]
  },
  {
   "cell_type": "code",
   "execution_count": 15,
   "id": "ddefdd8d-17d0-4112-8a73-80c1f9d0961c",
   "metadata": {},
   "outputs": [],
   "source": [
    "df.rename(columns={\"domain\": \"url\", \"label\": \"phishing\"}, inplace=True)\n",
    "#df2.rename(columns={\"result\": \"phishing\"}, inplace=True)"
   ]
  },
  {
   "cell_type": "markdown",
   "id": "58e877b3-1c92-4598-be5f-058d407c9671",
   "metadata": {},
   "source": [
    "### Adding Protocol"
   ]
  },
  {
   "cell_type": "markdown",
   "id": "eb208dd4-3447-45d1-b191-fa542275a01a",
   "metadata": {},
   "source": [
    "The original dataset does not include a protocol (such as 'http://') in the provided URLs. In order for a future use of urlparse to work efficiently on the concatenated DataFrame, all URLs must include a protocol. It is important to note that features extracted from the protocol will not be used in the model, but simply aid in the split of different URL parts."
   ]
  },
  {
   "cell_type": "code",
   "execution_count": 16,
   "id": "03535e33-63a1-4e55-ba93-cc980283fb01",
   "metadata": {},
   "outputs": [],
   "source": [
    "df['url'] = 'https://' + df['url'].astype(str)"
   ]
  },
  {
   "cell_type": "markdown",
   "id": "e9090c07-e6fe-42c5-b85a-32643163ab78",
   "metadata": {},
   "source": [
    "### Confirming Changes"
   ]
  },
  {
   "cell_type": "markdown",
   "id": "2434d181-5843-4fd6-9c68-d9be843aae4e",
   "metadata": {},
   "source": [
    "Final confirmation that all necessary changes were made:"
   ]
  },
  {
   "cell_type": "code",
   "execution_count": 17,
   "id": "9deda43c-3d98-4401-9514-a6919470d745",
   "metadata": {},
   "outputs": [
    {
     "data": {
      "text/html": [
       "<div>\n",
       "<style scoped>\n",
       "    .dataframe tbody tr th:only-of-type {\n",
       "        vertical-align: middle;\n",
       "    }\n",
       "\n",
       "    .dataframe tbody tr th {\n",
       "        vertical-align: top;\n",
       "    }\n",
       "\n",
       "    .dataframe thead th {\n",
       "        text-align: right;\n",
       "    }\n",
       "</style>\n",
       "<table border=\"1\" class=\"dataframe\">\n",
       "  <thead>\n",
       "    <tr style=\"text-align: right;\">\n",
       "      <th></th>\n",
       "      <th>url</th>\n",
       "      <th>phishing</th>\n",
       "    </tr>\n",
       "  </thead>\n",
       "  <tbody>\n",
       "    <tr>\n",
       "      <th>0</th>\n",
       "      <td>https://nobell.it/70ffb52d079109dca5664cce6f31...</td>\n",
       "      <td>1</td>\n",
       "    </tr>\n",
       "    <tr>\n",
       "      <th>1</th>\n",
       "      <td>https://www.dghjdgf.com/paypal.co.uk/cycgi-bin...</td>\n",
       "      <td>1</td>\n",
       "    </tr>\n",
       "    <tr>\n",
       "      <th>2</th>\n",
       "      <td>https://serviciosbys.com/paypal.cgi.bin.get-in...</td>\n",
       "      <td>1</td>\n",
       "    </tr>\n",
       "    <tr>\n",
       "      <th>3</th>\n",
       "      <td>https://mail.printakid.com/www.online.american...</td>\n",
       "      <td>1</td>\n",
       "    </tr>\n",
       "    <tr>\n",
       "      <th>4</th>\n",
       "      <td>https://thewhiskeydregs.com/wp-content/themes/...</td>\n",
       "      <td>1</td>\n",
       "    </tr>\n",
       "  </tbody>\n",
       "</table>\n",
       "</div>"
      ],
      "text/plain": [
       "                                                 url  phishing\n",
       "0  https://nobell.it/70ffb52d079109dca5664cce6f31...         1\n",
       "1  https://www.dghjdgf.com/paypal.co.uk/cycgi-bin...         1\n",
       "2  https://serviciosbys.com/paypal.cgi.bin.get-in...         1\n",
       "3  https://mail.printakid.com/www.online.american...         1\n",
       "4  https://thewhiskeydregs.com/wp-content/themes/...         1"
      ]
     },
     "execution_count": 17,
     "metadata": {},
     "output_type": "execute_result"
    }
   ],
   "source": [
    "df.head()"
   ]
  },
  {
   "cell_type": "code",
   "execution_count": 48,
   "id": "d57e8f53-0621-4ea5-b577-2d9744a19aea",
   "metadata": {},
   "outputs": [
    {
     "data": {
      "text/html": [
       "<div>\n",
       "<style scoped>\n",
       "    .dataframe tbody tr th:only-of-type {\n",
       "        vertical-align: middle;\n",
       "    }\n",
       "\n",
       "    .dataframe tbody tr th {\n",
       "        vertical-align: top;\n",
       "    }\n",
       "\n",
       "    .dataframe thead th {\n",
       "        text-align: right;\n",
       "    }\n",
       "</style>\n",
       "<table border=\"1\" class=\"dataframe\">\n",
       "  <thead>\n",
       "    <tr style=\"text-align: right;\">\n",
       "      <th></th>\n",
       "      <th>url</th>\n",
       "      <th>phishing</th>\n",
       "    </tr>\n",
       "  </thead>\n",
       "  <tbody>\n",
       "    <tr>\n",
       "      <th>0</th>\n",
       "      <td>https://www.google.com</td>\n",
       "      <td>0</td>\n",
       "    </tr>\n",
       "    <tr>\n",
       "      <th>1</th>\n",
       "      <td>https://www.youtube.com</td>\n",
       "      <td>0</td>\n",
       "    </tr>\n",
       "    <tr>\n",
       "      <th>2</th>\n",
       "      <td>https://www.facebook.com</td>\n",
       "      <td>0</td>\n",
       "    </tr>\n",
       "    <tr>\n",
       "      <th>3</th>\n",
       "      <td>https://www.baidu.com</td>\n",
       "      <td>0</td>\n",
       "    </tr>\n",
       "    <tr>\n",
       "      <th>4</th>\n",
       "      <td>https://www.wikipedia.org</td>\n",
       "      <td>0</td>\n",
       "    </tr>\n",
       "  </tbody>\n",
       "</table>\n",
       "</div>"
      ],
      "text/plain": [
       "                         url  phishing\n",
       "0     https://www.google.com         0\n",
       "1    https://www.youtube.com         0\n",
       "2   https://www.facebook.com         0\n",
       "3      https://www.baidu.com         0\n",
       "4  https://www.wikipedia.org         0"
      ]
     },
     "execution_count": 48,
     "metadata": {},
     "output_type": "execute_result"
    }
   ],
   "source": [
    "df2.head()"
   ]
  },
  {
   "cell_type": "code",
   "execution_count": 18,
   "id": "1455da0b",
   "metadata": {},
   "outputs": [],
   "source": [
    "df_final=df"
   ]
  },
  {
   "cell_type": "code",
   "execution_count": 20,
   "id": "1b64a7a9",
   "metadata": {},
   "outputs": [
    {
     "data": {
      "text/html": [
       "<div>\n",
       "<style scoped>\n",
       "    .dataframe tbody tr th:only-of-type {\n",
       "        vertical-align: middle;\n",
       "    }\n",
       "\n",
       "    .dataframe tbody tr th {\n",
       "        vertical-align: top;\n",
       "    }\n",
       "\n",
       "    .dataframe thead th {\n",
       "        text-align: right;\n",
       "    }\n",
       "</style>\n",
       "<table border=\"1\" class=\"dataframe\">\n",
       "  <thead>\n",
       "    <tr style=\"text-align: right;\">\n",
       "      <th></th>\n",
       "      <th>url</th>\n",
       "      <th>phishing</th>\n",
       "    </tr>\n",
       "  </thead>\n",
       "  <tbody>\n",
       "    <tr>\n",
       "      <th>0</th>\n",
       "      <td>https://nobell.it/70ffb52d079109dca5664cce6f31...</td>\n",
       "      <td>1</td>\n",
       "    </tr>\n",
       "    <tr>\n",
       "      <th>1</th>\n",
       "      <td>https://www.dghjdgf.com/paypal.co.uk/cycgi-bin...</td>\n",
       "      <td>1</td>\n",
       "    </tr>\n",
       "    <tr>\n",
       "      <th>2</th>\n",
       "      <td>https://serviciosbys.com/paypal.cgi.bin.get-in...</td>\n",
       "      <td>1</td>\n",
       "    </tr>\n",
       "    <tr>\n",
       "      <th>3</th>\n",
       "      <td>https://mail.printakid.com/www.online.american...</td>\n",
       "      <td>1</td>\n",
       "    </tr>\n",
       "    <tr>\n",
       "      <th>4</th>\n",
       "      <td>https://thewhiskeydregs.com/wp-content/themes/...</td>\n",
       "      <td>1</td>\n",
       "    </tr>\n",
       "  </tbody>\n",
       "</table>\n",
       "</div>"
      ],
      "text/plain": [
       "                                                 url  phishing\n",
       "0  https://nobell.it/70ffb52d079109dca5664cce6f31...         1\n",
       "1  https://www.dghjdgf.com/paypal.co.uk/cycgi-bin...         1\n",
       "2  https://serviciosbys.com/paypal.cgi.bin.get-in...         1\n",
       "3  https://mail.printakid.com/www.online.american...         1\n",
       "4  https://thewhiskeydregs.com/wp-content/themes/...         1"
      ]
     },
     "execution_count": 20,
     "metadata": {},
     "output_type": "execute_result"
    }
   ],
   "source": [
    "df_final.head()"
   ]
  },
  {
   "cell_type": "markdown",
   "id": "10a43613-7039-4f4e-a6bc-1ac8d6bc8193",
   "metadata": {},
   "source": [
    "# III. Final Changes"
   ]
  },
  {
   "cell_type": "markdown",
   "id": "00e743e3-ef27-434c-ac04-f4f55c9f1f3f",
   "metadata": {},
   "source": [
    "### Concatenating DataFrames"
   ]
  },
  {
   "cell_type": "code",
   "execution_count": 59,
   "id": "40323ed3-289a-4b47-af18-d7ffc8ba7f95",
   "metadata": {},
   "outputs": [],
   "source": [
    "df_final = pd.concat([df, df2])"
   ]
  },
  {
   "cell_type": "code",
   "execution_count": 60,
   "id": "1e065a5f-523d-4c77-ad36-61a80735b04c",
   "metadata": {},
   "outputs": [
    {
     "name": "stdout",
     "output_type": "stream",
     "text": [
      "SHAPE\n",
      "(546089, 2)\n",
      "=====\n",
      "DTYPES\n",
      "url         object\n",
      "phishing     int64\n",
      "dtype: object\n",
      "=====\n",
      "NULL VALUES\n",
      "url         0\n",
      "phishing    0\n",
      "dtype: int64\n",
      "=====\n"
     ]
    }
   ],
   "source": [
    "initial_read(df_final)"
   ]
  },
  {
   "cell_type": "markdown",
   "id": "983d7acb-95fd-4b1f-b513-0b4b8ac942b9",
   "metadata": {},
   "source": [
    "### Dropping Duplicates"
   ]
  },
  {
   "cell_type": "markdown",
   "id": "7c59782c-43fe-4e32-ba18-56a1ba556881",
   "metadata": {},
   "source": [
    "We can see there were 194 duplicated URLs. These will be dropped."
   ]
  },
  {
   "cell_type": "code",
   "execution_count": 61,
   "id": "25832970-c2b1-4ee1-9938-fd74bbe0ed22",
   "metadata": {},
   "outputs": [
    {
     "data": {
      "text/html": [
       "<div>\n",
       "<style scoped>\n",
       "    .dataframe tbody tr th:only-of-type {\n",
       "        vertical-align: middle;\n",
       "    }\n",
       "\n",
       "    .dataframe tbody tr th {\n",
       "        vertical-align: top;\n",
       "    }\n",
       "\n",
       "    .dataframe thead th {\n",
       "        text-align: right;\n",
       "    }\n",
       "</style>\n",
       "<table border=\"1\" class=\"dataframe\">\n",
       "  <thead>\n",
       "    <tr style=\"text-align: right;\">\n",
       "      <th></th>\n",
       "      <th>url</th>\n",
       "      <th>phishing</th>\n",
       "    </tr>\n",
       "  </thead>\n",
       "  <tbody>\n",
       "    <tr>\n",
       "      <th>35411</th>\n",
       "      <td>https://bin/webscr?cmd=_login-</td>\n",
       "      <td>1</td>\n",
       "    </tr>\n",
       "    <tr>\n",
       "      <th>45182</th>\n",
       "      <td>https://'www.allegropl.xaa.pl/enter_login.html...</td>\n",
       "      <td>1</td>\n",
       "    </tr>\n",
       "    <tr>\n",
       "      <th>129252</th>\n",
       "      <td>https://www.airnav.com/airports/us/TX</td>\n",
       "      <td>0</td>\n",
       "    </tr>\n",
       "    <tr>\n",
       "      <th>140534</th>\n",
       "      <td>https://www.apple.com/quicktime/</td>\n",
       "      <td>0</td>\n",
       "    </tr>\n",
       "    <tr>\n",
       "      <th>167423</th>\n",
       "      <td>https://www.conitec.net/english/gstudio/</td>\n",
       "      <td>0</td>\n",
       "    </tr>\n",
       "    <tr>\n",
       "      <th>...</th>\n",
       "      <td>...</td>\n",
       "      <td>...</td>\n",
       "    </tr>\n",
       "    <tr>\n",
       "      <th>345307</th>\n",
       "      <td>https://homepage.ntlworld.com/fetchfido2/inter...</td>\n",
       "      <td>0</td>\n",
       "    </tr>\n",
       "    <tr>\n",
       "      <th>345310</th>\n",
       "      <td>https://www.infopeople.org/search/chart.html</td>\n",
       "      <td>0</td>\n",
       "    </tr>\n",
       "    <tr>\n",
       "      <th>345313</th>\n",
       "      <td>https://l-lists.com/en/lists/lv2azk.html</td>\n",
       "      <td>0</td>\n",
       "    </tr>\n",
       "    <tr>\n",
       "      <th>345318</th>\n",
       "      <td>https://www.bruceclay.com/searchenginechart.pdf</td>\n",
       "      <td>0</td>\n",
       "    </tr>\n",
       "    <tr>\n",
       "      <th>345324</th>\n",
       "      <td>https://www.topix.com/business/search-engines</td>\n",
       "      <td>0</td>\n",
       "    </tr>\n",
       "  </tbody>\n",
       "</table>\n",
       "<p>194 rows × 2 columns</p>\n",
       "</div>"
      ],
      "text/plain": [
       "                                                      url  phishing\n",
       "35411                      https://bin/webscr?cmd=_login-         1\n",
       "45182   https://'www.allegropl.xaa.pl/enter_login.html...         1\n",
       "129252              https://www.airnav.com/airports/us/TX         0\n",
       "140534                   https://www.apple.com/quicktime/         0\n",
       "167423           https://www.conitec.net/english/gstudio/         0\n",
       "...                                                   ...       ...\n",
       "345307  https://homepage.ntlworld.com/fetchfido2/inter...         0\n",
       "345310       https://www.infopeople.org/search/chart.html         0\n",
       "345313           https://l-lists.com/en/lists/lv2azk.html         0\n",
       "345318    https://www.bruceclay.com/searchenginechart.pdf         0\n",
       "345324      https://www.topix.com/business/search-engines         0\n",
       "\n",
       "[194 rows x 2 columns]"
      ]
     },
     "execution_count": 61,
     "metadata": {},
     "output_type": "execute_result"
    }
   ],
   "source": [
    "df_final[df_final.duplicated()]"
   ]
  },
  {
   "cell_type": "code",
   "execution_count": 63,
   "id": "b303b18b-cb4f-4b08-a3bb-0361e4b2ddc8",
   "metadata": {},
   "outputs": [],
   "source": [
    "df_final.drop_duplicates(inplace=True)"
   ]
  },
  {
   "cell_type": "markdown",
   "id": "85180cbf-bd82-4732-8b1f-e66e122a5543",
   "metadata": {},
   "source": [
    "# IV. Saving DataFrame"
   ]
  },
  {
   "cell_type": "code",
   "execution_count": 65,
   "id": "b8bb0141-5a7e-4731-a09c-401c0253cff6",
   "metadata": {},
   "outputs": [],
   "source": [
    "df_final.to_csv('../data/url_concatenated.csv', index=False)"
   ]
  },
  {
   "cell_type": "code",
   "execution_count": 25,
   "id": "7a7d5657",
   "metadata": {},
   "outputs": [],
   "source": [
    "df_final.to_csv(\"C:/Users/jvicm/Desktop/Phishing-URL-Detection-main/url_concatenated.csv\", index=False)"
   ]
  },
  {
   "cell_type": "markdown",
   "id": "0637a082-8a3c-4a51-a6e8-50d20769ac5b",
   "metadata": {},
   "source": [
    "# ***Next Notebook*** - [02: Pre-Processing]('https://github.com/ksylvia16/Phishing-URL-Detection/blob/40cd1db7e428eaeeb979e9a84e5561856defde76/code/02_Pre-Processing.ipynb')"
   ]
  }
 ],
 "metadata": {
  "kernelspec": {
   "display_name": "Python 3 (ipykernel)",
   "language": "python",
   "name": "python3"
  },
  "language_info": {
   "codemirror_mode": {
    "name": "ipython",
    "version": 3
   },
   "file_extension": ".py",
   "mimetype": "text/x-python",
   "name": "python",
   "nbconvert_exporter": "python",
   "pygments_lexer": "ipython3",
   "version": "3.9.7"
  }
 },
 "nbformat": 4,
 "nbformat_minor": 5
}
